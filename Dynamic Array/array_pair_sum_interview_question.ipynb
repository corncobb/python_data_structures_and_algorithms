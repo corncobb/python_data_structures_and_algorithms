{
 "cells": [
  {
   "cell_type": "code",
   "execution_count": 88,
   "metadata": {},
   "outputs": [],
   "source": [
    "# Given an integer array, output all the unique pairs that sum up\n",
    "# to a specific value k\n",
    "def pair_sum(arr, total):\n",
    "    #init pairs as a set so no duplicates\n",
    "    pairs = set()\n",
    "        \n",
    "    arrlen = len(arr)\n",
    "  \n",
    "    for x in range(arrlen):\n",
    "        #print(arr[x]) # Used for debugging\n",
    "        for y in range(arrlen):\n",
    "            if arr[x] + arr[y] == total:\n",
    "                # If a pair exists then it will add them to a list then append them to the pairs above\n",
    "                pair = []\n",
    "                pair.append(arr[x])\n",
    "                pair.append(arr[y])\n",
    "                pair = str(sorted(pair))\n",
    "                if pair not in pairs:\n",
    "                    pairs.add(pair)\n",
    "\n",
    "    #return len of pairs\n",
    "    return len(pairs) "
   ]
  },
  {
   "cell_type": "code",
   "execution_count": 89,
   "metadata": {},
   "outputs": [
    {
     "data": {
      "text/plain": [
       "1"
      ]
     },
     "execution_count": 89,
     "metadata": {},
     "output_type": "execute_result"
    }
   ],
   "source": [
    "pair_sum([1,2,3,1],3)"
   ]
  },
  {
   "cell_type": "code",
   "execution_count": 90,
   "metadata": {},
   "outputs": [
    {
     "name": "stdout",
     "output_type": "stream",
     "text": [
      "ALL TEST CASES PASSED\n"
     ]
    }
   ],
   "source": [
    "\"\"\"\n",
    "RUN THIS CELL TO TEST YOUR SOLUTION\n",
    "\"\"\"\n",
    "from nose.tools import assert_equal\n",
    "\n",
    "class TestPair(object):\n",
    "    \n",
    "    def test(self,sol):\n",
    "        assert_equal(sol([1,9,2,8,3,7,4,6,5,5,13,14,11,13,-1],10),6)\n",
    "        assert_equal(sol([1,2,3,1],3),1)\n",
    "        assert_equal(sol([1,3,2,2],4),2)\n",
    "        print('ALL TEST CASES PASSED')\n",
    "        \n",
    "#Run tests\n",
    "t = TestPair()\n",
    "t.test(pair_sum)"
   ]
  },
  {
   "cell_type": "code",
   "execution_count": null,
   "metadata": {},
   "outputs": [],
   "source": []
  }
 ],
 "metadata": {
  "kernelspec": {
   "display_name": "Python 3",
   "language": "python",
   "name": "python3"
  },
  "language_info": {
   "codemirror_mode": {
    "name": "ipython",
    "version": 3
   },
   "file_extension": ".py",
   "mimetype": "text/x-python",
   "name": "python",
   "nbconvert_exporter": "python",
   "pygments_lexer": "ipython3",
   "version": "3.7.3"
  }
 },
 "nbformat": 4,
 "nbformat_minor": 2
}
